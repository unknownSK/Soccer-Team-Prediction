{
 "cells": [
  {
   "cell_type": "code",
   "execution_count": 4,
   "metadata": {
    "collapsed": true
   },
   "outputs": [],
   "source": [
    "from __future__ import division\n",
    "import numpy as np\n",
    "import os\n",
    "import six.moves.urllib as urllib\n",
    "import sys\n",
    "import tarfile\n",
    "import tensorflow as tf\n",
    "import zipfile\n",
    "\n",
    "from collections import defaultdict\n",
    "from io import StringIO\n",
    "from PIL import Image\n",
    "import cv2\n",
    "sys.path.append(\"..\")"
   ]
  },
  {
   "cell_type": "code",
   "execution_count": 5,
   "metadata": {},
   "outputs": [],
   "source": [
    "from utils import label_map_util\n",
    "from utils import visualization_utils as vis_util"
   ]
  },
  {
   "cell_type": "code",
   "execution_count": 6,
   "metadata": {
    "collapsed": true
   },
   "outputs": [],
   "source": [
    "# Selecting model.\n",
    "MODEL_NAME = 'ssd_mobilenet_v1_coco_2017_11_17'\n",
    "\n",
    "# Path to frozen detection graph. This is the actual model that is used for the object detection.\n",
    "PATH_TO_FROZEN_GRAPH = MODEL_NAME + '/frozen_inference_graph.pb'\n",
    "\n",
    "# List of the strings that is used to add correct label for each box.\n",
    "PATH_TO_LABELS = os.path.join('data', 'mscoco_label_map.pbtxt')\n",
    "\n",
    "NUM_CLASSES=90"
   ]
  },
  {
   "cell_type": "code",
   "execution_count": 7,
   "metadata": {},
   "outputs": [],
   "source": [
    "#Load a (frozen) Tensorflow model into memory.\n",
    "detection_graph=tf.Graph()\n",
    "with detection_graph.as_default():\n",
    "    od_graph_def=tf.GraphDef()\n",
    "    with tf.gfile.GFile(PATH_TO_FROZEN_GRAPH, 'rb') as fid:\n",
    "        serialized_graph = fid.read()\n",
    "        od_graph_def.ParseFromString(serialized_graph)\n",
    "        tf.import_graph_def(od_graph_def, name='')\n",
    "    \n",
    "label_map=label_map_util.load_labelmap(PATH_TO_LABELS)\n",
    "categories=label_map_util.convert_label_map_to_categories(label_map,max_num_classes=NUM_CLASSES,use_display_name=True)\n",
    "category_index=label_map_util.create_category_index(categories)"
   ]
  },
  {
   "cell_type": "code",
   "execution_count": 8,
   "metadata": {
    "collapsed": true
   },
   "outputs": [],
   "source": [
    "def count_nonblack(img):\n",
    "    return img.any(axis=-1).sum()"
   ]
  },
  {
   "cell_type": "code",
   "execution_count": 9,
   "metadata": {},
   "outputs": [],
   "source": [
    "def team_name(image, show=False):\n",
    "    # define the list of boundaries\n",
    "    boundaries = [\n",
    "    ([17, 15, 100], [50, 56, 200]), #red\n",
    "    ([25, 146, 190], [96, 174, 250]) #yellow\n",
    "    ]\n",
    "    i = 0\n",
    "    for (lower, upper) in boundaries:\n",
    "        # create NumPy arrays from the boundaries\n",
    "        lower = np.array(lower, dtype = \"uint8\")\n",
    "        upper = np.array(upper, dtype = \"uint8\")\n",
    "\n",
    "        # find the colors within the specified boundaries and apply\n",
    "        # the mask\n",
    "        mask = cv2.inRange(image, lower, upper)\n",
    "        output = cv2.bitwise_and(image, image, mask = mask)\n",
    "        tot_pix = count_nonblack(image)\n",
    "        color_pix = count_nonblack(output)\n",
    "        ratio = color_pix/tot_pix\n",
    "#         print(\"ratio is:\", ratio)\n",
    "        if ratio > 0.01 and i == 0:\n",
    "            return 'red'\n",
    "        elif ratio > 0.01 and i == 1:\n",
    "            return 'yellow'\n",
    "\n",
    "        i += 1\n",
    "        \n",
    "        if show == True:\n",
    "            cv2.imshow(\"images\", np.hstack([image, output]))\n",
    "            if cv2.waitKey(0) & 0xFF == ord('q'):\n",
    "              cv2.destroyAllWindows() \n",
    "    return 'not_sure'"
   ]
  },
  {
   "cell_type": "code",
   "execution_count": 10,
   "metadata": {},
   "outputs": [
    {
     "data": {
      "text/plain": [
       "'yellow'"
      ]
     },
     "execution_count": 10,
     "metadata": {},
     "output_type": "execute_result"
    }
   ],
   "source": [
    "image=cv2.imread('1234.png')\n",
    "resize =cv2.resize(image,(640,360))\n",
    "team_name(resize,show=True)"
   ]
  },
  {
   "cell_type": "code",
   "execution_count": 12,
   "metadata": {},
   "outputs": [],
   "source": [
    "#working with video\n",
    "\n",
    "cap=cv2.VideoCapture('vid.mp4')\n",
    "fourcc=cv2.VideoWriter_fourcc(*'XVID')\n",
    "out=cv2.VideoWriter('op.avi',fourcc,20.0,(640,480))\n",
    "\n",
    "#Running Tensorflow Session\n",
    "\n",
    "with detection_graph.as_default():\n",
    "    with tf.Session(graph=detection_graph) as sess:\n",
    "        count=0\n",
    "        while(True):\n",
    "            ret,img_np=cap.read()\n",
    "            count+=1\n",
    "            if ret:\n",
    "                h=img_np.shape[0]\n",
    "                w=img_np.shape[1]\n",
    "            if not ret:\n",
    "                break\n",
    "            if count%1==0:\n",
    "                image_expanded=np.expand_dims(img_np,axis=0)\n",
    "                image_tensor=detection_graph.get_tensor_by_name('image_tensor:0')\n",
    "                boxes=detection_graph.get_tensor_by_name('detection_boxes:0')\n",
    "                scores=detection_graph.get_tensor_by_name('detection_scores:0')\n",
    "                classes=detection_graph.get_tensor_by_name('detection_classes:0')\n",
    "                num_detections=detection_graph.get_tensor_by_name('num_detections:0')\n",
    "                (boxes, scores, classes, num_detections) = sess.run(\n",
    "                      [boxes, scores, classes, num_detections],\n",
    "                      feed_dict={image_tensor: image_expanded})\n",
    "                \n",
    "                vis_util.visualize_boxes_and_labels_on_image_array(\n",
    "                                          img_np,\n",
    "                                          np.squeeze(boxes),\n",
    "                                          np.squeeze(classes).astype(np.int32),\n",
    "                                          np.squeeze(scores),\n",
    "                                          category_index,\n",
    "                                          use_normalized_coordinates=True,\n",
    "                                          line_thickness=3,\n",
    "                                          min_score_thresh=0.6)\n",
    "                frame_number=count\n",
    "                \n",
    "                #dictionary to team and there cor-ordinates\n",
    "                loc={}\n",
    "                for n in range(len(scores[0])):\n",
    "                    if scores[0][n]>0.60:\n",
    "                        ymin = int(boxes[0][n][0] * h)\n",
    "                        xmin = int(boxes[0][n][1] * w)\n",
    "                        ymax = int(boxes[0][n][2] * h)\n",
    "                        xmax = int(boxes[0][n][3] * w)   \n",
    "                        \n",
    "                        for cat in categories:\n",
    "                            if cat['id']==classes[0][n]:\n",
    "                                label=cat['name']\n",
    "                                \n",
    "                        if label=='person':\n",
    "                            crop_im=img_np[ymin:ymax,xmin:xmax]\n",
    "                            color = team_name(crop_im)\n",
    "                            if color!='not_sure':\n",
    "                                coords=(xmin,ymin)\n",
    "                                if color=='red':\n",
    "                                    loc[coords]='PERU'\n",
    "                                else:\n",
    "                                    loc[coords]='AUS'\n",
    "                                    \n",
    "                                    \n",
    "                for key in loc.keys():\n",
    "                    text_pos=str(loc[key])\n",
    "                    cv2.putText(img_np, text_pos, (key[0], key[1]-20), cv2.FONT_HERSHEY_SIMPLEX, 0.50, (255, 0, 0), 2)\n",
    "                    \n",
    "            cv2.imshow('img',img_np)\n",
    "            out.write(img_np)\n",
    "            \n",
    "            if cv2.waitKey(10) & 0xFF == ord('q'):\n",
    "                cv2.destroyAllWindows()\n",
    "                cap.release()\n",
    "                break\n",
    "            \n",
    "        "
   ]
  },
  {
   "cell_type": "code",
   "execution_count": null,
   "metadata": {
    "collapsed": true
   },
   "outputs": [],
   "source": []
  }
 ],
 "metadata": {
  "kernelspec": {
   "display_name": "Python 3",
   "language": "python",
   "name": "python3"
  },
  "language_info": {
   "codemirror_mode": {
    "name": "ipython",
    "version": 3
   },
   "file_extension": ".py",
   "mimetype": "text/x-python",
   "name": "python",
   "nbconvert_exporter": "python",
   "pygments_lexer": "ipython3",
   "version": "3.6.3"
  }
 },
 "nbformat": 4,
 "nbformat_minor": 2
}
